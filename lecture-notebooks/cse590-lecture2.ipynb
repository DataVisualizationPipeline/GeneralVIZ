{
 "cells": [
  {
   "cell_type": "markdown",
   "id": "a409fb6c",
   "metadata": {},
   "source": [
    "<a href=\"http://www.louisville.edu\"><img src = \"https://scontent-ort2-2.xx.fbcdn.net/v/t1.6435-9/185393772_10157730198765899_6137133964003342304_n.jpg?_nc_cat=102&ccb=1-5&_nc_sid=6e5ad9&_nc_ohc=nhwGx_CPtF0AX-k_sR4&_nc_ht=scontent-ort2-2.xx&oh=00_AT9-NHyX-MdiUHq34g-aG-Cj16o8N4e1oJyIRb0ZiKdD2Q&oe=61F8FC7B\" width = 400> </a>\n",
    "\n",
    "<h1 align=center><font size = 5>CSE 590 Data Visualization</font></h1>\n",
    "<h1 align=center><font size = 5> Lecture 2 - hands-on notebook - Introduction to Numpy Array</font></h1>"
   ]
  },
  {
   "cell_type": "markdown",
   "id": "f48301a7",
   "metadata": {},
   "source": [
    "<h2 align=left><font size = 3>This shows some performance numbers of operations between Python and Numpy. Notice how the 2nd set of numbers (NumPy) are always smaller - meaning they have much better performance than their Python List core library conterparts.</font></h2>\n"
   ]
  },
  {
   "cell_type": "code",
   "execution_count": 7,
   "id": "a9702eaa",
   "metadata": {},
   "outputs": [
    {
     "name": "stdout",
     "output_type": "stream",
     "text": [
      "2.1681127548217773 0.05879378318786621\n",
      "Numpy is in this example 36.87656478736734 faster!\n"
     ]
    }
   ],
   "source": [
    "import time\n",
    "import numpy as np\n",
    "\n",
    "size_of_vec = 10000000\n",
    "\n",
    "def pure_python_version():\n",
    "    t1 = time.time()\n",
    "    X = range(size_of_vec)\n",
    "    Y = range(size_of_vec)\n",
    "    Z = [X[i] + Y[i] for i in range(len(X)) ]\n",
    "    return time.time() - t1\n",
    "\n",
    "def numpy_version():\n",
    "    t1 = time.time()\n",
    "    X = np.arange(size_of_vec)\n",
    "    Y = np.arange(size_of_vec)\n",
    "    Z = X + Y\n",
    "    return time.time() - t1\n",
    "\n",
    "\n",
    "t1 = pure_python_version()\n",
    "t2 = numpy_version()\n",
    "print(t1, t2)\n",
    "\n",
    "print(\"Numpy is in this example \" + str(t1/t2) + \" faster!\")\n"
   ]
  },
  {
   "cell_type": "markdown",
   "id": "2e6c39a0",
   "metadata": {},
   "source": [
    "<h2 align=left><font size = 3>This shows some performance numbers of operations between Python and Numpy. Notice how the 2nd set of numbers (NumPy) are always smaller - meaning they have much better performance than their Python List core library conterparts.</font></h2>"
   ]
  },
  {
   "cell_type": "code",
   "execution_count": 8,
   "id": "2ec3eae8",
   "metadata": {},
   "outputs": [
    {
     "name": "stdout",
     "output_type": "stream",
     "text": [
      "2.63042089999999\n",
      "0.01706699999999728\n",
      "[2.565971700000091, 2.4740593000001354, 2.45585159999996]\n",
      "[0.055069700000103694, 0.052113700000063545, 0.05606860000011693]\n"
     ]
    }
   ],
   "source": [
    "import numpy as np\n",
    "from timeit import Timer\n",
    "\n",
    "size_of_vec = 1000000\n",
    "X_list = range(size_of_vec)\n",
    "Y_list = range(size_of_vec)\n",
    "X = np.arange(size_of_vec)\n",
    "Y = np.arange(size_of_vec)\n",
    "\n",
    "def pure_python_version():\n",
    "    Z = [X_list[i] + Y_list[i] for i in range(len(X_list)) ]\n",
    "\n",
    "def numpy_version():\n",
    "    Z = X + Y\n",
    "\n",
    "timer_obj1 = Timer(\"pure_python_version()\", \n",
    "                   \"from __main__ import pure_python_version\")\n",
    "timer_obj2 = Timer(\"numpy_version()\", \n",
    "                   \"from __main__ import numpy_version\")\n",
    "\n",
    "print(timer_obj1.timeit(10))\n",
    "print(timer_obj2.timeit(10))  # Runs Faster!\n",
    "\n",
    "print(timer_obj1.repeat(repeat=3, number=10))\n",
    "print(timer_obj2.repeat(repeat=3, number=10)) # repeat to prove it!\n",
    "\n"
   ]
  },
  {
   "cell_type": "markdown",
   "id": "9cd6d4a5",
   "metadata": {},
   "source": [
    "<h2 align=left><font size = 3>The following are the steps used to plot the numpy array:</font></h2>\n",
    "<div>\n",
    "  <ul>\n",
    "    <li><h2 align=left><font size = 3>Defining Libraries: Import the required libraries such as matplotlib.pyplot for data visualization and numpy for creating numpy array.</font></h2></li>\n",
    "    <li><h2 align=left><font size = 3>Define Data: Define x-axis and y-axis data coordinates that are used for plotting.</font></h2></li>\n",
    "    <li><h2 align=left><font size = 3>Plot the chart: By using the plot(), scatter() methods of the matplotlib library we can draw the chart.</font></h2></li>\n",
    "      <li><h2 align=left><font size = 3>Visualize a Plot: By using the show() method users can generate a plot on their screen.</font></h2></li>\n",
    "  </ul>\n",
    "</div>"
   ]
  },
  {
   "cell_type": "code",
   "execution_count": 9,
   "id": "93e03afe",
   "metadata": {},
   "outputs": [
    {
     "data": {
      "image/png": "[encoded data removed]",
      "text/plain": [
       "<Figure size 432x288 with 1 Axes>"
      ]
     },
     "metadata": {
      "needs_background": "light"
     },
     "output_type": "display_data"
    }
   ],
   "source": [
    "# Import Library\n",
    "\n",
    "import numpy as np \n",
    "import matplotlib.pyplot as plt\n",
    "\n",
    "# Data Cooedinates\n",
    "\n",
    "x = np.arange(5, 10) \n",
    "y = np.arange(12, 17)\n",
    "\n",
    "# PLot\n",
    "\n",
    "plt.plot(x,y) \n",
    "\n",
    "# Add Title\n",
    "\n",
    "plt.title(\"Matplotlib PLot NumPy Array\") \n",
    "\n",
    "# Add Axes Labels\n",
    "\n",
    "plt.xlabel(\"x axis\") \n",
    "plt.ylabel(\"y axis\") \n",
    "\n",
    "# Display\n",
    "\n",
    "plt.show()"
   ]
  },
  {
   "cell_type": "code",
   "execution_count": 10,
   "id": "3be618e0",
   "metadata": {},
   "outputs": [
    {
     "data": {
      "image/png": "[encoded data removed]",
      "text/plain": [
       "<Figure size 432x288 with 1 Axes>"
      ]
     },
     "metadata": {
      "needs_background": "light"
     },
     "output_type": "display_data"
    }
   ],
   "source": [
    "# Import Library\n",
    "\n",
    "import numpy as np \n",
    "import matplotlib.pyplot as plt\n",
    "\n",
    "# Data Coordinates\n",
    "\n",
    "x = np.arange(2, 8) \n",
    "y = np.array([5, 8, 6, 20, 18, 30])\n",
    "\n",
    "# PLot\n",
    "\n",
    "plt.plot(x, y, linestyle='--') \n",
    "\n",
    "# Add Title\n",
    "\n",
    "plt.title(\"Matplotlib Plot NumPy Array As Line\") \n",
    "\n",
    "# Add Axes Labels\n",
    "\n",
    "\n",
    "plt.xlabel(\"x axis\") \n",
    "plt.ylabel(\"y axis\") \n",
    "\n",
    "# Display\n",
    "\n",
    "plt.show()"
   ]
  },
  {
   "cell_type": "code",
   "execution_count": 11,
   "id": "3adff3b4",
   "metadata": {},
   "outputs": [
    {
     "data": {
      "image/png": "[encoded data removed]",
      "text/plain": [
       "<Figure size 432x288 with 1 Axes>"
      ]
     },
     "metadata": {
      "needs_background": "light"
     },
     "output_type": "display_data"
    }
   ],
   "source": [
    "# Import Library\n",
    "\n",
    "\n",
    "import numpy as np \n",
    "import matplotlib.pyplot as plt\n",
    "\n",
    "# Data Coordinates\n",
    "\n",
    "\n",
    "x = np.arange(2, 8) \n",
    "y = x * 2 + 6\n",
    "\n",
    "# Plot\n",
    "\n",
    "plt.scatter(x, y) \n",
    "\n",
    "# Add Title\n",
    "\n",
    "plt.title(\"Matplotlib Scatter Plot NumPy Array\") \n",
    "\n",
    "# Add Axes Labels\n",
    "\n",
    "\n",
    "plt.xlabel(\"x axis\") \n",
    "plt.ylabel(\"y axis\") \n",
    "\n",
    "# Display\n",
    "\n",
    "plt.show()"
   ]
  },
  {
   "cell_type": "code",
   "execution_count": 12,
   "id": "72214380",
   "metadata": {},
   "outputs": [
    {
     "data": {
      "image/png": "[encoded data removed]",
      "text/plain": [
       "<Figure size 432x288 with 1 Axes>"
      ]
     },
     "metadata": {
      "needs_background": "light"
     },
     "output_type": "display_data"
    }
   ],
   "source": [
    "# Import Library\n",
    "\n",
    "import numpy as np \n",
    "import matplotlib.pyplot as plt\n",
    "\n",
    "# Data Coordinates\n",
    "\n",
    "x = np.arange(2, 8) \n",
    "y1 = x * 3\n",
    "y2 = np.array([5, 2.6, 4, 15, 20, 6])\n",
    "\n",
    "# PLot\n",
    "\n",
    "plt.plot(x, y1) \n",
    "plt.plot(x, y2)\n",
    "\n",
    "# Add Title\n",
    "\n",
    "plt.title(\"Matplotlib Multiple Line Plot From NumPy Array\") \n",
    "\n",
    "# Add Axes Labels\n",
    "\n",
    "plt.xlabel(\"x axis\") \n",
    "plt.ylabel(\"y axis\") \n",
    "\n",
    "# Display\n",
    "\n",
    "plt.show()"
   ]
  },
  {
   "cell_type": "code",
   "execution_count": 17,
   "id": "c95ccc8d",
   "metadata": {},
   "outputs": [
    {
     "name": "stdout",
     "output_type": "stream",
     "text": [
      "<class 'numpy.ndarray'>\n"
     ]
    },
    {
     "data": {
      "image/png": "[encoded data removed]",
      "text/plain": [
       "<Figure size 432x288 with 1 Axes>"
      ]
     },
     "metadata": {
      "needs_background": "light"
     },
     "output_type": "display_data"
    }
   ],
   "source": [
    "# Import Library\n",
    "\n",
    "import numpy as np\n",
    "import matplotlib.pyplot as plt\n",
    "\n",
    "# Define Data\n",
    "\n",
    "x = np.arange(100).reshape((10,10)) \n",
    "\n",
    "# Heat map\n",
    "\n",
    "plt.imshow( x, cmap = 'rainbow' , interpolation = 'bilinear')\n",
    "\n",
    "# Add Title\n",
    "\n",
    "plt.title( \"Heat Map\" )\n",
    "\n",
    "# Display\n",
    "\n",
    "plt.show()"
   ]
  },
  {
   "cell_type": "code",
   "execution_count": null,
   "id": "1b4a9d34",
   "metadata": {},
   "outputs": [],
   "source": []
  }
 ],
 "metadata": {
  "kernelspec": {
   "display_name": "Python 3",
   "language": "python",
   "name": "python3"
  },
  "language_info": {
   "codemirror_mode": {
    "name": "ipython",
    "version": 3
   },
   "file_extension": ".py",
   "mimetype": "text/x-python",
   "name": "python",
   "nbconvert_exporter": "python",
   "pygments_lexer": "ipython3",
   "version": "3.8.8"
  }
 },
 "nbformat": 4,
 "nbformat_minor": 5
}
